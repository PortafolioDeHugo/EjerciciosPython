{
 "cells": [
  {
   "cell_type": "code",
   "execution_count": 185,
   "id": "a805f1b0",
   "metadata": {},
   "outputs": [],
   "source": [
    "x = [10, 20, 30, 50, 65, 70, 90, 260, 210, 320 ]\n",
    "Y = [100, 200, 250, 300, 324, 405, 478, 521, 700,750]\n"
   ]
  },
  {
   "cell_type": "code",
   "execution_count": 186,
   "id": "524b03aa",
   "metadata": {},
   "outputs": [
    {
     "name": "stdout",
     "output_type": "stream",
     "text": [
      "112.5\n",
      "402.8\n"
     ]
    }
   ],
   "source": [
    "PromedioX = sum(x)/len(x)\n",
    "PromedioY = sum(y)/len(y)\n",
    "print (PromedioX)\n",
    "print (PromedioY)"
   ]
  },
  {
   "cell_type": "code",
   "execution_count": 187,
   "id": "f4ee7a2e",
   "metadata": {},
   "outputs": [],
   "source": [
    "def Xi_X():\n",
    "    rest = []\n",
    "    for n in x:\n",
    "        X2 = n-PromedioX\n",
    "        rest.append(X2)\n",
    "    return rest    \n",
    "        "
   ]
  },
  {
   "cell_type": "code",
   "execution_count": 188,
   "id": "c1ceea64",
   "metadata": {},
   "outputs": [],
   "source": [
    "A = Xi_X()\n"
   ]
  },
  {
   "cell_type": "code",
   "execution_count": 189,
   "id": "953de9f4",
   "metadata": {},
   "outputs": [],
   "source": [
    "import numpy"
   ]
  },
  {
   "cell_type": "code",
   "execution_count": 190,
   "id": "49265575",
   "metadata": {},
   "outputs": [],
   "source": [
    "def Yi_Y():\n",
    "    rest = []\n",
    "    for n in Y:\n",
    "        Y2 = n-PromedioY\n",
    "        rest.append(Y2)\n",
    "    return rest    \n",
    "        "
   ]
  },
  {
   "cell_type": "code",
   "execution_count": 191,
   "id": "b4a6a5af",
   "metadata": {},
   "outputs": [
    {
     "name": "stdout",
     "output_type": "stream",
     "text": [
      "[-302.8, -202.8, -152.8, -102.80000000000001, -78.80000000000001, 2.1999999999999886, 75.19999999999999, 118.19999999999999, 297.2, 347.2] [-102.5, -92.5, -82.5, -62.5, -47.5, -42.5, -22.5, 147.5, 97.5, 207.5]\n"
     ]
    }
   ],
   "source": [
    "B = Yi_Y()\n",
    "print(B, A)\n"
   ]
  },
  {
   "cell_type": "code",
   "execution_count": null,
   "id": "eb4b3c87",
   "metadata": {},
   "outputs": [],
   "source": []
  },
  {
   "cell_type": "markdown",
   "id": "adf6d6b9",
   "metadata": {},
   "source": [
    "Bo = La terndencia de la regresion  se formula con sum(A*B)/sum(A**2).\n",
    "\n",
    "https://stackoverflow.com/questions/14791119/cant-multiply-sequence-by-non-int-of-type-list\n",
    "\n",
    "https://how.okpedia.org/es/python/como-calcular-la-potencia-de-un-numero-en-python#:~:text=Para%20calcular%20la%20elevaci%C3%B3n%20de,use%20la%20funci%C3%B3n%20pow%20().&text=El%20primer%20argumento%20(a)%20es,(b)%20es%20el%20exponente.\n",
    "\n",
    "https://datagy.io/python-exponentiation/#:~:text=Python%20comes%20with%20many%20different,raise%20the%20first%20number%20to.\n",
    "\n",
    "https://numpy.org/doc/stable/reference/generated/numpy.cumsum.html#numpy.cumsum\n",
    "\n",
    "https://www.entechin.com/how-to-multiply-two-lists-in-python/ esta es la buena\n"
   ]
  },
  {
   "cell_type": "code",
   "execution_count": 192,
   "id": "e8b59972",
   "metadata": {},
   "outputs": [
    {
     "name": "stdout",
     "output_type": "stream",
     "text": [
      "[31037.0, 18759.0, 12606.000000000002, 6425.000000000001, 3743.0000000000005, -93.49999999999952, -1691.9999999999998, 17434.5, 28977.0, 72044.0]\n"
     ]
    }
   ],
   "source": [
    "\n",
    "A_B  = [i1 * i2 for i1, i2 in zip(A, B)]\n",
    " \n",
    "print(A_B)\n"
   ]
  },
  {
   "cell_type": "code",
   "execution_count": 193,
   "id": "6b6755b9",
   "metadata": {},
   "outputs": [],
   "source": [
    "power_value = 2\n",
    "AA = list()\n",
    "for item in A:\n",
    "    AA.append(pow(item, power_value))"
   ]
  },
  {
   "cell_type": "code",
   "execution_count": 194,
   "id": "77ea3587",
   "metadata": {},
   "outputs": [
    {
     "data": {
      "text/plain": [
       "189240.0"
      ]
     },
     "execution_count": 194,
     "metadata": {},
     "output_type": "execute_result"
    }
   ],
   "source": [
    "sum(A_B)"
   ]
  },
  {
   "cell_type": "code",
   "execution_count": 195,
   "id": "c9df75bb",
   "metadata": {},
   "outputs": [
    {
     "data": {
      "text/plain": [
       "108662.5"
      ]
     },
     "execution_count": 195,
     "metadata": {},
     "output_type": "execute_result"
    }
   ],
   "source": [
    "sum(AA)"
   ]
  },
  {
   "cell_type": "markdown",
   "id": "13e7f9a8",
   "metadata": {},
   "source": [
    "B1 (la tendeciao pendiente) es sum(A*B)/sum(A**2) osea sum(A_B)/SUM(AA) en nuestro codigo."
   ]
  },
  {
   "cell_type": "code",
   "execution_count": 196,
   "id": "e123780d",
   "metadata": {},
   "outputs": [
    {
     "name": "stdout",
     "output_type": "stream",
     "text": [
      "1.7415391694466813\n"
     ]
    }
   ],
   "source": [
    "B1 = sum(A_B)/sum(AA)\n",
    "print(B1)"
   ]
  },
  {
   "cell_type": "markdown",
   "id": "8e3a8d93",
   "metadata": {},
   "source": [
    "Una vez obtenido B1(la tendecia o pendiente) debemos obtener B0 que sera la ordenada al origen de nuestra regresion lineal.\n",
    "\n",
    "B0= promedioy -promediox * b1"
   ]
  },
  {
   "cell_type": "code",
   "execution_count": 197,
   "id": "bb5c3252",
   "metadata": {},
   "outputs": [
    {
     "name": "stdout",
     "output_type": "stream",
     "text": [
      "206.87684343724837\n"
     ]
    }
   ],
   "source": [
    "B0 = PromedioY-PromedioX*B1\n",
    "print(B0)"
   ]
  },
  {
   "cell_type": "markdown",
   "id": "320ff029",
   "metadata": {},
   "source": [
    "Entonces es hora de ensamblar nuestra regresion lineal , compuesta por B0+B1*Xi(xi refiere a todos los valores de x en secuencia formando una recta positiva)\n",
    "https://www.makeuseof.com/draw-graphs-jupyter-notebook/"
   ]
  },
  {
   "cell_type": "code",
   "execution_count": 203,
   "id": "bbe0563c",
   "metadata": {},
   "outputs": [
    {
     "name": "stdout",
     "output_type": "stream",
     "text": [
      "[224, 242, 259, 294, 320, 329, 364, 660, 573, 764]\n"
     ]
    }
   ],
   "source": [
    "Regresion_Lineal_Puntos = list()\n",
    "for n2 in x:\n",
    "        RL = round((B1*n2)+ B0)\n",
    "        Regresion_Lineal_Puntos.append(RL) \n",
    "    \n",
    "print(Regresion_Lineal_Puntos)"
   ]
  },
  {
   "cell_type": "code",
   "execution_count": 210,
   "id": "ce664dae",
   "metadata": {},
   "outputs": [
    {
     "data": {
      "image/png": "[encoded data removed]",
      "text/plain": [
       "<Figure size 432x288 with 1 Axes>"
      ]
     },
     "metadata": {
      "needs_background": "light"
     },
     "output_type": "display_data"
    }
   ],
   "source": [
    "import matplotlib.pyplot as plt\n",
    "plt.scatter(x,y)\n",
    "plt.plot(x,Regresion_Lineal_Puntos)\n",
    "plt.show()"
   ]
  },
  {
   "cell_type": "code",
   "execution_count": null,
   "id": "4eb2bd5a",
   "metadata": {},
   "outputs": [],
   "source": []
  }
 ],
 "metadata": {
  "kernelspec": {
   "display_name": "Python 3 (ipykernel)",
   "language": "python",
   "name": "python3"
  },
  "language_info": {
   "codemirror_mode": {
    "name": "ipython",
    "version": 3
   },
   "file_extension": ".py",
   "mimetype": "text/x-python",
   "name": "python",
   "nbconvert_exporter": "python",
   "pygments_lexer": "ipython3",
   "version": "3.9.12"
  }
 },
 "nbformat": 4,
 "nbformat_minor": 5
}
